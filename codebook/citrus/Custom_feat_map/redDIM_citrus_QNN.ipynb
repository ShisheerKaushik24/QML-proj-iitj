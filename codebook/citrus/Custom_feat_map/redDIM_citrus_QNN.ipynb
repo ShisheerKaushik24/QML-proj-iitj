{
 "cells": [
  {
   "cell_type": "code",
   "execution_count": 1,
   "metadata": {},
   "outputs": [],
   "source": [
    "import numpy as np\n",
    "%matplotlib inline\n",
    "import matplotlib.pyplot as p\n",
    "\n",
    "from IPython.core.magic import register_cell_magic\n",
    "@register_cell_magic\n",
    "def write_and_run(line, cell):\n",
    "    argz = line.split()\n",
    "    file = argz[-1]\n",
    "    mode = 'w'\n",
    "    with open(file, mode) as f:\n",
    "        f.write(cell)\n",
    "    get_ipython().run_cell(cell)\n",
    "\n",
    "\n",
    "import warnings\n",
    "warnings.filterwarnings('ignore')\n"
   ]
  },
  {
   "cell_type": "code",
   "execution_count": 2,
   "metadata": {},
   "outputs": [],
   "source": [
    "import pandas as pd\n",
    "import numpy as np\n",
    "import seaborn as sns\n",
    "import matplotlib.pyplot as plt\n",
    "import pickle\n",
    "import math\n",
    "from sklearn.model_selection import train_test_split\n",
    "from sklearn.ensemble import RandomForestClassifier\n",
    "from sklearn.tree import DecisionTreeClassifier\n",
    "from sklearn.naive_bayes import GaussianNB\n",
    "from sklearn.neighbors import KNeighborsClassifier\n",
    "from sklearn.svm import SVC\n",
    "from sklearn.metrics import f1_score, accuracy_score, confusion_matrix ,classification_report\n",
    "from qiskit import *\n",
    "from qiskit_ibm_provider import *\n",
    "from qiskit_ibm_runtime import *\n",
    "from qiskit_machine_learning.datasets import ad_hoc_data\n",
    "from qiskit.circuit.library import TwoLocal\n",
    "from qiskit_algorithms.optimizers import *\n",
    "from qiskit.circuit.library import ZZFeatureMap\n",
    "from qiskit.circuit.library import RealAmplitudes\n",
    "from qiskit.primitives import Sampler\n",
    "from qiskit_machine_learning.algorithms.classifiers import VQC\n",
    "from sklearn.model_selection import train_test_split\n",
    "from sklearn.preprocessing import StandardScaler\n",
    "from sklearn.neural_network import MLPClassifier\n",
    "from sklearn.metrics import classification_report\n",
    "from sklearn.model_selection import train_test_split\n",
    "from sklearn.preprocessing import MinMaxScaler\n",
    "from sklearn.decomposition import PCA\n",
    "from sklearn.model_selection import train_test_split\n",
    "from sklearn.preprocessing import StandardScaler\n",
    "from sklearn.decomposition import PCA\n",
    "from sklearn.discriminant_analysis import LinearDiscriminantAnalysis as LDA\n",
    "from sklearn.preprocessing import MinMaxScaler\n",
    "from sklearn.svm import SVC\n",
    "from sklearn import metrics\n",
    "from sklearn.ensemble import RandomForestClassifier\n",
    "from sklearn.linear_model import LogisticRegression\n",
    "from sklearn.tree import DecisionTreeClassifier\n",
    "from sklearn.preprocessing import normalize\n",
    "from sklearn.model_selection import cross_val_score, KFold\n",
    "#Import classical libraries\n",
    "from sklearn.neighbors import KNeighborsClassifier\n",
    "from sklearn.naive_bayes import GaussianNB\n",
    "from sklearn.svm import SVC\n",
    "from sklearn.ensemble import RandomForestClassifier\n",
    "from sklearn.model_selection import train_test_split\n",
    "from sklearn import datasets\n",
    "import matplotlib.pyplot as plt\n",
    "\n",
    "plt.style.use('ggplot')\n",
    "\n",
    "import functools\n",
    "\n",
    "import pandas as pd\n",
    "import seaborn as sns\n",
    "import time\n",
    "import psutil\n",
    "from matplotlib import pyplot as plt\n",
    "from IPython.display import clear_output\n",
    "from qiskit.primitives import Sampler\n",
    "\n",
    "sampler = Sampler()"
   ]
  },
  {
   "cell_type": "code",
   "execution_count": 3,
   "metadata": {},
   "outputs": [
    {
     "data": {
      "text/plain": [
       "'\\ndata_labels = df.iloc[:, 0].values\\ndata_features = df.iloc[:, 1:].values\\n'"
      ]
     },
     "execution_count": 3,
     "metadata": {},
     "output_type": "execute_result"
    }
   ],
   "source": [
    "import pandas as pd\n",
    "\n",
    "df = pd.read_csv('citrus.csv',sep=',')\n",
    "df = df.sample(1500)\n",
    "\"\"\"\n",
    "data_labels = df.iloc[:, 0].values\n",
    "data_features = df.iloc[:, 1:].values\n",
    "\"\"\""
   ]
  },
  {
   "cell_type": "code",
   "execution_count": 4,
   "metadata": {},
   "outputs": [
    {
     "name": "stdout",
     "output_type": "stream",
     "text": [
      "Index(['name', 'diameter', 'weight', 'red', 'green', 'blue'], dtype='object')\n"
     ]
    }
   ],
   "source": [
    "print(df.columns)\n"
   ]
  },
  {
   "cell_type": "code",
   "execution_count": 5,
   "metadata": {},
   "outputs": [
    {
     "name": "stdout",
     "output_type": "stream",
     "text": [
      "            name  diameter  weight  red  green  blue\n",
      "4690      orange     10.41  181.50  145     73     2\n",
      "6569  grapefruit     10.88  188.19  151     67     6\n",
      "3786      orange      9.33  165.82  164     77     6\n",
      "929       orange      7.36  136.04  157     93     2\n",
      "8061  grapefruit     11.82  203.06  152     86    26\n"
     ]
    }
   ],
   "source": [
    "print(df.head())\n"
   ]
  },
  {
   "cell_type": "code",
   "execution_count": 6,
   "metadata": {},
   "outputs": [
    {
     "name": "stdout",
     "output_type": "stream",
     "text": [
      "(1500, 6)\n"
     ]
    }
   ],
   "source": [
    "print(df.shape)\n"
   ]
  },
  {
   "cell_type": "code",
   "execution_count": 7,
   "metadata": {},
   "outputs": [
    {
     "name": "stdout",
     "output_type": "stream",
     "text": [
      "name         object\n",
      "diameter    float64\n",
      "weight      float64\n",
      "red           int64\n",
      "green         int64\n",
      "blue          int64\n",
      "dtype: object\n"
     ]
    }
   ],
   "source": [
    "print(df.dtypes)\n"
   ]
  },
  {
   "cell_type": "code",
   "execution_count": 8,
   "metadata": {},
   "outputs": [
    {
     "data": {
      "text/html": [
       "<div>\n",
       "<style scoped>\n",
       "    .dataframe tbody tr th:only-of-type {\n",
       "        vertical-align: middle;\n",
       "    }\n",
       "\n",
       "    .dataframe tbody tr th {\n",
       "        vertical-align: top;\n",
       "    }\n",
       "\n",
       "    .dataframe thead th {\n",
       "        text-align: right;\n",
       "    }\n",
       "</style>\n",
       "<table border=\"1\" class=\"dataframe\">\n",
       "  <thead>\n",
       "    <tr style=\"text-align: right;\">\n",
       "      <th></th>\n",
       "      <th>diameter</th>\n",
       "      <th>weight</th>\n",
       "      <th>red</th>\n",
       "      <th>green</th>\n",
       "      <th>blue</th>\n",
       "    </tr>\n",
       "  </thead>\n",
       "  <tbody>\n",
       "    <tr>\n",
       "      <th>count</th>\n",
       "      <td>1500.000000</td>\n",
       "      <td>1500.000000</td>\n",
       "      <td>1500.000000</td>\n",
       "      <td>1500.000000</td>\n",
       "      <td>1500.000000</td>\n",
       "    </tr>\n",
       "    <tr>\n",
       "      <th>mean</th>\n",
       "      <td>10.020513</td>\n",
       "      <td>175.780707</td>\n",
       "      <td>153.842667</td>\n",
       "      <td>75.780000</td>\n",
       "      <td>11.254667</td>\n",
       "    </tr>\n",
       "    <tr>\n",
       "      <th>std</th>\n",
       "      <td>1.949341</td>\n",
       "      <td>29.250312</td>\n",
       "      <td>10.283210</td>\n",
       "      <td>11.684518</td>\n",
       "      <td>8.928771</td>\n",
       "    </tr>\n",
       "    <tr>\n",
       "      <th>min</th>\n",
       "      <td>4.420000</td>\n",
       "      <td>95.170000</td>\n",
       "      <td>119.000000</td>\n",
       "      <td>40.000000</td>\n",
       "      <td>2.000000</td>\n",
       "    </tr>\n",
       "    <tr>\n",
       "      <th>25%</th>\n",
       "      <td>8.460000</td>\n",
       "      <td>152.402500</td>\n",
       "      <td>147.000000</td>\n",
       "      <td>68.000000</td>\n",
       "      <td>2.000000</td>\n",
       "    </tr>\n",
       "    <tr>\n",
       "      <th>50%</th>\n",
       "      <td>10.050000</td>\n",
       "      <td>175.805000</td>\n",
       "      <td>154.000000</td>\n",
       "      <td>76.000000</td>\n",
       "      <td>10.000000</td>\n",
       "    </tr>\n",
       "    <tr>\n",
       "      <th>75%</th>\n",
       "      <td>11.522500</td>\n",
       "      <td>198.532500</td>\n",
       "      <td>161.000000</td>\n",
       "      <td>84.000000</td>\n",
       "      <td>17.000000</td>\n",
       "    </tr>\n",
       "    <tr>\n",
       "      <th>max</th>\n",
       "      <td>14.850000</td>\n",
       "      <td>249.050000</td>\n",
       "      <td>189.000000</td>\n",
       "      <td>109.000000</td>\n",
       "      <td>44.000000</td>\n",
       "    </tr>\n",
       "  </tbody>\n",
       "</table>\n",
       "</div>"
      ],
      "text/plain": [
       "          diameter       weight          red        green         blue\n",
       "count  1500.000000  1500.000000  1500.000000  1500.000000  1500.000000\n",
       "mean     10.020513   175.780707   153.842667    75.780000    11.254667\n",
       "std       1.949341    29.250312    10.283210    11.684518     8.928771\n",
       "min       4.420000    95.170000   119.000000    40.000000     2.000000\n",
       "25%       8.460000   152.402500   147.000000    68.000000     2.000000\n",
       "50%      10.050000   175.805000   154.000000    76.000000    10.000000\n",
       "75%      11.522500   198.532500   161.000000    84.000000    17.000000\n",
       "max      14.850000   249.050000   189.000000   109.000000    44.000000"
      ]
     },
     "execution_count": 8,
     "metadata": {},
     "output_type": "execute_result"
    }
   ],
   "source": [
    "df.describe()"
   ]
  },
  {
   "cell_type": "code",
   "execution_count": 9,
   "metadata": {},
   "outputs": [
    {
     "data": {
      "text/html": [
       "<div>\n",
       "<style scoped>\n",
       "    .dataframe tbody tr th:only-of-type {\n",
       "        vertical-align: middle;\n",
       "    }\n",
       "\n",
       "    .dataframe tbody tr th {\n",
       "        vertical-align: top;\n",
       "    }\n",
       "\n",
       "    .dataframe thead th {\n",
       "        text-align: right;\n",
       "    }\n",
       "</style>\n",
       "<table border=\"1\" class=\"dataframe\">\n",
       "  <thead>\n",
       "    <tr style=\"text-align: right;\">\n",
       "      <th></th>\n",
       "      <th>pc_1</th>\n",
       "      <th>pc_2</th>\n",
       "    </tr>\n",
       "  </thead>\n",
       "  <tbody>\n",
       "    <tr>\n",
       "      <th>0</th>\n",
       "      <td>-1.908786</td>\n",
       "      <td>13.265173</td>\n",
       "    </tr>\n",
       "    <tr>\n",
       "      <th>1</th>\n",
       "      <td>-19.654700</td>\n",
       "      <td>-6.020563</td>\n",
       "    </tr>\n",
       "    <tr>\n",
       "      <th>2</th>\n",
       "      <td>49.474633</td>\n",
       "      <td>22.821543</td>\n",
       "    </tr>\n",
       "    <tr>\n",
       "      <th>3</th>\n",
       "      <td>24.342580</td>\n",
       "      <td>-4.899869</td>\n",
       "    </tr>\n",
       "    <tr>\n",
       "      <th>4</th>\n",
       "      <td>0.153890</td>\n",
       "      <td>6.795131</td>\n",
       "    </tr>\n",
       "  </tbody>\n",
       "</table>\n",
       "</div>"
      ],
      "text/plain": [
       "        pc_1       pc_2\n",
       "0  -1.908786  13.265173\n",
       "1 -19.654700  -6.020563\n",
       "2  49.474633  22.821543\n",
       "3  24.342580  -4.899869\n",
       "4   0.153890   6.795131"
      ]
     },
     "execution_count": 9,
     "metadata": {},
     "output_type": "execute_result"
    }
   ],
   "source": [
    "df_labels = df['name']\n",
    "df.drop(['name'], axis=1, inplace=True)\n",
    "\n",
    "x_train, x_test, y_train, y_test = train_test_split(df, df_labels, test_size=0.2, random_state=42)\n",
    "\n",
    "#pca = PCA(n_components=2)\n",
    "pca = PCA(n_components=2)\n",
    "pca.fit(x_train, y_train)\n",
    "df_pca_train = pca.transform(x_train)\n",
    "df_pca_test = pca.transform(x_test)\n",
    "df_pca_train = pd.DataFrame(data = df_pca_train\n",
    "             , columns = ['pc_1', 'pc_2'])\n",
    "\n",
    "df_pca_test = pd.DataFrame(data = df_pca_test\n",
    "             , columns = ['pc_1', 'pc_2'])\n",
    "df_pca_train.head()"
   ]
  },
  {
   "cell_type": "code",
   "execution_count": 10,
   "metadata": {},
   "outputs": [
    {
     "data": {
      "text/plain": [
       "2"
      ]
     },
     "execution_count": 10,
     "metadata": {},
     "output_type": "execute_result"
    }
   ],
   "source": [
    "n_dim = len(df_pca_train.columns)\n",
    "n_dim"
   ]
  },
  {
   "cell_type": "code",
   "execution_count": 11,
   "metadata": {},
   "outputs": [],
   "source": [
    "\n",
    "sample_train, sample_test, label_train, label_test = train_test_split(\n",
    "     df_pca_train, y_train, test_size=0.2, random_state=22)\n",
    "\n",
    "# Normalize\n",
    "\n",
    "sample_train = sample_train.to_numpy()\n",
    "sample_test = sample_test.to_numpy()\n",
    "\n",
    "std_scale = StandardScaler().fit(sample_train)\n",
    "sample_train = std_scale.transform(sample_train)\n",
    "sample_test = std_scale.transform(sample_test)\n",
    "\n",
    "# Scale for better fit within the feature map\n",
    "\n",
    "samples = np.append(sample_train, sample_test, axis=0)\n",
    "minmax_scale = MinMaxScaler((-1, 1)).fit(samples)\n",
    "sample_train = minmax_scale.transform(sample_train)\n",
    "sample_test = minmax_scale.transform(sample_test)\n",
    "\n",
    "train_size = 800\n",
    "sample_train = sample_train[:train_size]\n",
    "label_train = label_train[:train_size]\n",
    "\n",
    "test_size = 200\n",
    "sample_test = sample_test[:test_size]\n",
    "label_test = label_test[:test_size]"
   ]
  },
  {
   "cell_type": "code",
   "execution_count": 12,
   "metadata": {},
   "outputs": [
    {
     "data": {
      "text/plain": [
       "\"\\nimport plotly.express as px\\nimport pandas as pd\\nimport matplotlib.pyplot as plt\\nimport time\\n\\ndf = pd.DataFrame({\\n    'Component 0': data_features[:, 0],\\n    'Component 1': data_features[:, 1],\\n    'Component 2': data_features[:, 2],\\n    'label': data_labels\\n})\\n\\nfig = px.scatter_3d(df, x='Component 0', y='Component 1', z='Component 2', color='label')\\nfig.show()\\n\""
      ]
     },
     "execution_count": 12,
     "metadata": {},
     "output_type": "execute_result"
    }
   ],
   "source": [
    "\"\"\"\n",
    "import plotly.express as px\n",
    "import pandas as pd\n",
    "import matplotlib.pyplot as plt\n",
    "import time\n",
    "\n",
    "df = pd.DataFrame({\n",
    "    'Component 0': data_features[:, 0],\n",
    "    'Component 1': data_features[:, 1],\n",
    "    'Component 2': data_features[:, 2],\n",
    "    'label': data_labels\n",
    "})\n",
    "\n",
    "fig = px.scatter_3d(df, x='Component 0', y='Component 1', z='Component 2', color='label')\n",
    "fig.show()\n",
    "\"\"\""
   ]
  },
  {
   "cell_type": "code",
   "execution_count": 13,
   "metadata": {},
   "outputs": [],
   "source": [
    "num_features = n_dim"
   ]
  },
  {
   "cell_type": "code",
   "execution_count": 14,
   "metadata": {},
   "outputs": [
    {
     "name": "stdout",
     "output_type": "stream",
     "text": [
      "Before Sampling the Data (1200, 5) (300, 5) (1200,) (300,)\n",
      "After Sampling the Data (800, 2) (200, 2) (800,) (200,)\n"
     ]
    }
   ],
   "source": [
    "print(\"Before Sampling the Data\", x_train.shape, x_test.shape, y_train.shape, y_test.shape)\n",
    "print(\"After Sampling the Data\", sample_train.shape, sample_test.shape, label_train.shape, label_test.shape)"
   ]
  },
  {
   "cell_type": "code",
   "execution_count": 15,
   "metadata": {},
   "outputs": [
    {
     "data": {
      "text/plain": [
       "'\\ncorp_perc = 80\\n\\ncorp_split = int(corp_perc * data.shape[0] // 100)\\n\\nfour_indices = np.random.choice(np.arange(data.shape[0] // 2), corp_split // 2, replace=False)\\nnine_indices = np.random.choice(np.arange(data.shape[0] // 2, data.shape[0]), corp_split // 2, replace=False)\\nmy_data_orange = data.iloc[four_indices] \\nmy_data_grapefruit = data.iloc[nine_indices] \\n\\nmy_data = pd.concat([my_data_orange, my_data_grapefruit])\\n\\ntest_perc = 100 - corp_perc\\nsemi_split = int(test_perc * my_data.shape[0] // 100)\\n\\n# Creating training and testing input dictionaries\\ntraining_input = {\\'A\\': my_data_orange.iloc[:-semi_split, 1:], \\'B\\': my_data_grapefruit.iloc[:-semi_split, 1:]}\\ntest_input = {\\'A\\': my_data_orange.iloc[-semi_split:, 1:], \\'B\\': my_data_grapefruit.iloc[-semi_split:, 1:]}\\ntesting_input = pd.concat([my_data_orange.iloc[-semi_split:, 1:], my_data_grapefruit.iloc[-semi_split:, 1:]])\\ntesting_labels = pd.concat([my_data_orange.iloc[-semi_split:, :1], my_data_grapefruit.iloc[-semi_split:, :1]])\\n\\n# Prepare the training and testing datasets\\nx_train = pd.concat([training_input[\\'A\\'], training_input[\\'B\\']]).values\\ny_train = np.concatenate((np.zeros(len(training_input[\\'A\\'])), np.ones(len(training_input[\\'B\\']))))\\nx_test = testing_input.values\\ny_test = np.concatenate((np.zeros(len(test_input[\\'A\\'])), np.ones(len(test_input[\\'B\\']))))\\n\\n# Print the lengths of the datasets\\nprint(\"Length of x_train:\", len(x_train))\\nprint(\"Length of y_train:\", len(y_train))\\nprint(\"Length of x_test:\", len(x_test))\\nprint(\"Length of y_test:\", len(y_test))\\n'"
      ]
     },
     "execution_count": 15,
     "metadata": {},
     "output_type": "execute_result"
    }
   ],
   "source": [
    "\"\"\"\n",
    "corp_perc = 80\n",
    "\n",
    "corp_split = int(corp_perc * data.shape[0] // 100)\n",
    "\n",
    "four_indices = np.random.choice(np.arange(data.shape[0] // 2), corp_split // 2, replace=False)\n",
    "nine_indices = np.random.choice(np.arange(data.shape[0] // 2, data.shape[0]), corp_split // 2, replace=False)\n",
    "my_data_orange = data.iloc[four_indices] \n",
    "my_data_grapefruit = data.iloc[nine_indices] \n",
    "\n",
    "my_data = pd.concat([my_data_orange, my_data_grapefruit])\n",
    "\n",
    "test_perc = 100 - corp_perc\n",
    "semi_split = int(test_perc * my_data.shape[0] // 100)\n",
    "\n",
    "# Creating training and testing input dictionaries\n",
    "training_input = {'A': my_data_orange.iloc[:-semi_split, 1:], 'B': my_data_grapefruit.iloc[:-semi_split, 1:]}\n",
    "test_input = {'A': my_data_orange.iloc[-semi_split:, 1:], 'B': my_data_grapefruit.iloc[-semi_split:, 1:]}\n",
    "testing_input = pd.concat([my_data_orange.iloc[-semi_split:, 1:], my_data_grapefruit.iloc[-semi_split:, 1:]])\n",
    "testing_labels = pd.concat([my_data_orange.iloc[-semi_split:, :1], my_data_grapefruit.iloc[-semi_split:, :1]])\n",
    "\n",
    "# Prepare the training and testing datasets\n",
    "x_train = pd.concat([training_input['A'], training_input['B']]).values\n",
    "y_train = np.concatenate((np.zeros(len(training_input['A'])), np.ones(len(training_input['B']))))\n",
    "x_test = testing_input.values\n",
    "y_test = np.concatenate((np.zeros(len(test_input['A'])), np.ones(len(test_input['B']))))\n",
    "\n",
    "# Print the lengths of the datasets\n",
    "print(\"Length of x_train:\", len(x_train))\n",
    "print(\"Length of y_train:\", len(y_train))\n",
    "print(\"Length of x_test:\", len(x_test))\n",
    "print(\"Length of y_test:\", len(y_test))\n",
    "\"\"\""
   ]
  },
  {
   "cell_type": "code",
   "execution_count": 16,
   "metadata": {},
   "outputs": [],
   "source": [
    "import pandas as pd\n",
    "import numpy as np\n",
    "import seaborn as sns\n",
    "import matplotlib.pyplot as plt\n",
    "import pickle\n",
    "import math\n",
    "from sklearn.model_selection import train_test_split\n",
    "from sklearn.ensemble import RandomForestClassifier\n",
    "from sklearn.tree import DecisionTreeClassifier\n",
    "from sklearn.naive_bayes import GaussianNB\n",
    "from sklearn.neighbors import KNeighborsClassifier\n",
    "from sklearn.svm import SVC\n",
    "from sklearn.metrics import f1_score, accuracy_score, confusion_matrix ,classification_report\n",
    "from qiskit import *\n",
    "from qiskit_ibm_provider import *\n",
    "from qiskit_ibm_runtime import *\n",
    "from qiskit_machine_learning.datasets import ad_hoc_data\n",
    "from qiskit.circuit.library import TwoLocal\n",
    "from qiskit_algorithms.optimizers import *\n",
    "from qiskit.circuit.library import ZZFeatureMap\n",
    "from qiskit.circuit.library import RealAmplitudes\n",
    "from qiskit.primitives import Sampler\n",
    "from qiskit_machine_learning.algorithms.classifiers import VQC\n",
    "from sklearn.model_selection import train_test_split\n",
    "from sklearn.preprocessing import StandardScaler\n",
    "from sklearn.neural_network import MLPClassifier\n",
    "from sklearn.metrics import classification_report\n",
    "from sklearn.model_selection import train_test_split\n",
    "from sklearn.preprocessing import MinMaxScaler\n",
    "from sklearn.decomposition import PCA\n",
    "from qiskit.primitives import Sampler, Estimator\n",
    "\"\"\"\n",
    "# IBM Qiskit Runtime\n",
    "from qiskit_ibm_runtime import QiskitRuntimeService\n",
    "from qiskit_ibm_runtime.fake_provider import FakeManilaV2\n",
    "from qiskit_ibm_runtime import Estimator, Sampler, Session\n",
    "from qiskit_ibm_runtime import QiskitRuntimeService\n",
    "from qiskit_aer import AerSimulator\n",
    " \n",
    "# get a real backend from the runtime service\n",
    "#backend = service.get_backend('ibmq_manila')\n",
    " \n",
    "# generate a simulator that mimics the real quantum system with the latest calibration results\n",
    "#backend_sim = AerSimulator.from_backend(backend)\n",
    "# Add your token below\n",
    "\n",
    "service = QiskitRuntimeService(channel='ibm_quantum')\n",
    "backend = service.get_backend(\"ibm_kyoto\")\n",
    "#backend = FakeManilaV2()\n",
    "\n",
    "session = Session(backend=backend)\n",
    "#estimator = Estimator(session=session)\n",
    "sampler = Sampler(session = session)\n",
    "\"\"\"\n",
    "estimator = Estimator()\n",
    "sampler = Sampler()\n",
    "import pandas as pd\n",
    "import seaborn as sns\n",
    "import time\n",
    "import psutil\n",
    "from matplotlib import pyplot as plt\n",
    "from IPython.display import clear_output\n",
    "from qiskit.primitives import Sampler"
   ]
  },
  {
   "cell_type": "code",
   "execution_count": 17,
   "metadata": {},
   "outputs": [],
   "source": [
    "%%write_and_run feature_map.py\n",
    "import numpy as np\n",
    "from qiskit import QuantumCircuit \n",
    "from qiskit.circuit import ParameterVector\n",
    "\n",
    "def feature_map(num_qubits): \n",
    "    reps = 3\n",
    "    feature_map_circuit = QuantumCircuit(num_qubits)\n",
    "    x = ParameterVector('x', length=num_qubits)\n",
    "    for _ in range(reps):\n",
    "        for i in range(num_qubits):\n",
    "            feature_map_circuit.rx(x[i], i)\n",
    "            feature_map_circuit.rz(x[i], i)\n",
    "            feature_map_circuit.barrier()\n",
    "        for control in range(num_qubits-1, 0, -1):\n",
    "            target = control - 1\n",
    "            feature_map_circuit.rx(x[target], target)\n",
    "            feature_map_circuit.cx(control, target)\n",
    "            feature_map_circuit.rx(x[target], target)\n",
    "            feature_map_circuit.barrier()\n",
    "        for i in range(num_qubits):\n",
    "            feature_map_circuit.rx(x[i], i)\n",
    "            feature_map_circuit.rz(x[i], i)\n",
    "        feature_map_circuit.barrier()\n",
    "\n",
    "    return feature_map_circuit, num_qubits\n"
   ]
  },
  {
   "cell_type": "code",
   "execution_count": 18,
   "metadata": {},
   "outputs": [
    {
     "data": {
      "image/png": "[encoded data removed]",
      "text/plain": [
       "<Figure size 2210.35x451.5 with 1 Axes>"
      ]
     },
     "execution_count": 18,
     "metadata": {},
     "output_type": "execute_result"
    }
   ],
   "source": [
    "feature_map_circuit, num_qubits = feature_map(num_qubits=num_features)\n",
    "feature_map_circuit.draw(output='mpl', style='clifford')"
   ]
  },
  {
   "cell_type": "code",
   "execution_count": 19,
   "metadata": {},
   "outputs": [],
   "source": [
    "%%write_and_run variational_circuit.py\n",
    "    \n",
    "from qiskit import QuantumCircuit\n",
    "from qiskit.circuit import ParameterVector\n",
    "    \n",
    "\n",
    "def variational_circuit():\n",
    "    num_qubits = num_features           \n",
    "    reps = 3\n",
    "    x = ParameterVector('L', length=(num_qubits*(reps+1)*(reps+1)))\n",
    "    var_circuit = QuantumCircuit(num_qubits)\n",
    "    count = 0\n",
    "    for _ in range(reps):\n",
    "        for i in range(num_qubits):\n",
    "            var_circuit.ry(x[count], i)\n",
    "            count+=1\n",
    "        for i in range(num_qubits):\n",
    "            var_circuit.rz(x[count], i)\n",
    "            count+=1\n",
    "        for i in range(num_qubits):\n",
    "            for j in range(i+1,num_qubits):\n",
    "                var_circuit.cx(i,j)\n",
    "        var_circuit.x(0)\n",
    " \n",
    "    for i in range(num_qubits):\n",
    "        var_circuit.ry(x[count], i)\n",
    "        count+=1\n",
    "    for i in range(num_qubits):\n",
    "        var_circuit.rz(x[count], i)\n",
    "        count+=1\n",
    "    \n",
    "    return var_circuit"
   ]
  },
  {
   "cell_type": "code",
   "execution_count": 20,
   "metadata": {},
   "outputs": [
    {
     "data": {
      "image/png": "[encoded data removed]",
      "text/plain": [
       "<Figure size 1290.63x200.667 with 1 Axes>"
      ]
     },
     "execution_count": 20,
     "metadata": {},
     "output_type": "execute_result"
    }
   ],
   "source": [
    "variational_circuit_circuit = variational_circuit()\n",
    "variational_circuit_circuit.decompose().draw(output='mpl', style='clifford')"
   ]
  },
  {
   "cell_type": "code",
   "execution_count": 21,
   "metadata": {},
   "outputs": [
    {
     "data": {
      "text/plain": [
       "(27, 14)"
      ]
     },
     "execution_count": 21,
     "metadata": {},
     "output_type": "execute_result"
    }
   ],
   "source": [
    "feature_map_circuit.depth(), variational_circuit_circuit.depth(), "
   ]
  },
  {
   "cell_type": "code",
   "execution_count": 22,
   "metadata": {},
   "outputs": [
    {
     "data": {
      "text/plain": [
       "'\\nimport numpy as np\\nfrom qiskit.circuit.library import IQP\\nfrom qiskit.transpiler.preset_passmanagers import generate_preset_pass_manager\\nfrom qiskit.quantum_info import SparsePauliOp, random_hermitian\\nfrom qiskit_ibm_runtime import QiskitRuntimeService, Session, EstimatorV2 as Estimator\\n \\nn_qubits = 127\\n \\nrng = np.random.default_rng(1234)\\nmat = np.real(random_hermitian(n_qubits, seed=rng))\\ncircuit = IQP(mat)\\nmat = np.real(random_hermitian(n_qubits, seed=rng))\\nanother_circuit = IQP(mat)\\nobservable = SparsePauliOp(\"X\" * n_qubits)\\nanother_observable = SparsePauliOp(\"Y\" * n_qubits)\\n \\npm = generate_preset_pass_manager(optimization_level=1, backend=backend)\\nisa_circuit = pm.run(circuit)\\nanother_isa_circuit = pm.run(another_circuit)\\nisa_observable = observable.apply_layout(isa_circuit.layout)\\nanother_isa_observable = another_observable.apply_layout(another_isa_circuit.layout)\\n \\nservice = QiskitRuntimeService()\\n \\nbackend = service.least_busy(operational=True, simulator=False, min_num_qubits=127)\\n \\nwith Session(service=service, backend=backend) as session:\\n    estimator = Estimator(session=session)\\n \\n    estimator.options.optimization_level = 1\\n    estimator.options.resilience_level = 1\\n \\n    job = estimator.run(transpiled_feature_map)\\n    another_job = estimator.run(transpiled_var_circ)\\n    result = job.result()\\n    another_result = another_job.result()\\n\\n'"
      ]
     },
     "execution_count": 22,
     "metadata": {},
     "output_type": "execute_result"
    }
   ],
   "source": [
    "\"\"\"\n",
    "import numpy as np\n",
    "from qiskit.circuit.library import IQP\n",
    "from qiskit.transpiler.preset_passmanagers import generate_preset_pass_manager\n",
    "from qiskit.quantum_info import SparsePauliOp, random_hermitian\n",
    "from qiskit_ibm_runtime import QiskitRuntimeService, Session, EstimatorV2 as Estimator\n",
    " \n",
    "n_qubits = 127\n",
    " \n",
    "rng = np.random.default_rng(1234)\n",
    "mat = np.real(random_hermitian(n_qubits, seed=rng))\n",
    "circuit = IQP(mat)\n",
    "mat = np.real(random_hermitian(n_qubits, seed=rng))\n",
    "another_circuit = IQP(mat)\n",
    "observable = SparsePauliOp(\"X\" * n_qubits)\n",
    "another_observable = SparsePauliOp(\"Y\" * n_qubits)\n",
    " \n",
    "pm = generate_preset_pass_manager(optimization_level=1, backend=backend)\n",
    "isa_circuit = pm.run(circuit)\n",
    "another_isa_circuit = pm.run(another_circuit)\n",
    "isa_observable = observable.apply_layout(isa_circuit.layout)\n",
    "another_isa_observable = another_observable.apply_layout(another_isa_circuit.layout)\n",
    " \n",
    "service = QiskitRuntimeService()\n",
    " \n",
    "backend = service.least_busy(operational=True, simulator=False, min_num_qubits=127)\n",
    " \n",
    "with Session(service=service, backend=backend) as session:\n",
    "    estimator = Estimator(session=session)\n",
    " \n",
    "    estimator.options.optimization_level = 1\n",
    "    estimator.options.resilience_level = 1\n",
    " \n",
    "    job = estimator.run(transpiled_feature_map)\n",
    "    another_job = estimator.run(transpiled_var_circ)\n",
    "    result = job.result()\n",
    "    another_result = another_job.result()\n",
    "\n",
    "\"\"\""
   ]
  },
  {
   "cell_type": "code",
   "execution_count": 23,
   "metadata": {},
   "outputs": [],
   "source": [
    "cls_opt = COBYLA(maxiter=100, tol=0.001)"
   ]
  },
  {
   "cell_type": "code",
   "execution_count": 24,
   "metadata": {},
   "outputs": [],
   "source": [
    "from qiskit_machine_learning.algorithms.classifiers import NeuralNetworkClassifier, VQC\n",
    "from qiskit_machine_learning.algorithms.regressors import NeuralNetworkRegressor, VQR\n",
    "from qiskit_machine_learning.neural_networks import SamplerQNN, EstimatorQNN\n",
    "from qiskit_machine_learning.circuit.library import QNNCircuit\n",
    "qc = QNNCircuit(num_qubits=num_qubits, feature_map = feature_map_circuit, ansatz= variational_circuit_circuit)\n",
    "qc.decompose().draw(\"mpl\", style=\"clifford\")\n",
    "estimator_qnn = EstimatorQNN(circuit=qc, estimator=estimator)"
   ]
  },
  {
   "cell_type": "code",
   "execution_count": 25,
   "metadata": {},
   "outputs": [],
   "source": [
    "objective_func_vals = []\n",
    "plt.rcParams[\"figure.figsize\"] = (12, 6)\n",
    "\n",
    "\n",
    "def callback_graph(weights, obj_func_eval):\n",
    "    clear_output(wait=True)\n",
    "    objective_func_vals.append(obj_func_eval)\n",
    "    plt.title(\"Objective function value against iteration\")\n",
    "    plt.xlabel(\"Iteration\")\n",
    "    plt.ylabel(\"Objective function value\")\n",
    "    plt.plot(range(len(objective_func_vals))\n",
    "    , objective_func_vals)\n",
    "    plt.show()"
   ]
  },
  {
   "cell_type": "code",
   "execution_count": 26,
   "metadata": {},
   "outputs": [
    {
     "name": "stdout",
     "output_type": "stream",
     "text": [
      "Sample train shape: (800, 2)\n",
      "Label train shape: (800,)\n",
      "Sample train:\n",
      "[[ 0.34174066  0.06701382]\n",
      " [-0.71279277  0.09895415]\n",
      " [ 0.19110502  0.24905625]\n",
      " [ 0.15464913 -0.3709887 ]\n",
      " [ 0.65977113 -0.09490241]]\n",
      "Label train:\n",
      "1613        orange\n",
      "9524    grapefruit\n",
      "2916        orange\n",
      "3570        orange\n",
      "282         orange\n",
      "Name: name, dtype: object\n"
     ]
    }
   ],
   "source": [
    "print(\"Sample train shape:\", sample_train.shape)\n",
    "print(\"Label train shape:\", label_train.shape)\n",
    "\n",
    "print(\"Sample train:\")\n",
    "print(sample_train[:5])  \n",
    "print(\"Label train:\")\n",
    "print(label_train[:5])\n"
   ]
  },
  {
   "cell_type": "code",
   "execution_count": 28,
   "metadata": {},
   "outputs": [
    {
     "data": {
      "image/png": "[encoded data removed]",
      "text/plain": [
       "<Figure size 1200x600 with 1 Axes>"
      ]
     },
     "metadata": {},
     "output_type": "display_data"
    },
    {
     "name": "stdout",
     "output_type": "stream",
     "text": [
      "Training time: 118 seconds\n"
     ]
    }
   ],
   "source": [
    "import pandas as pd\n",
    "\n",
    "estimator_classifier = NeuralNetworkClassifier(\n",
    "    estimator_qnn, \n",
    "    optimizer=cls_opt, \n",
    "    callback=callback_graph, \n",
    "    loss='cross_entropy',\n",
    ")\n",
    "\n",
    "from sklearn.preprocessing import LabelEncoder\n",
    "\n",
    "sample_train_df = pd.DataFrame(sample_train, columns=['feature_1', 'feature_2'])\n",
    "\n",
    "label_encoder = LabelEncoder()\n",
    "\n",
    "encoded_labels = label_encoder.fit_transform(label_train)\n",
    "\n",
    "start = time.time()\n",
    "estimator_classifier.fit(sample_train_df, encoded_labels)\n",
    "elapsed = time.time() - start\n",
    "print(f\"Training time: {round(elapsed)} seconds\")\n",
    "\n"
   ]
  },
  {
   "cell_type": "code",
   "execution_count": 29,
   "metadata": {},
   "outputs": [
    {
     "name": "stdout",
     "output_type": "stream",
     "text": [
      "EstimatorQNN on the training dataset using TwoLocal: 0.48\n",
      "EstimatorQNN on the test dataset using TwoLocal:     0.49\n"
     ]
    }
   ],
   "source": [
    "predicted_labels_train = estimator_classifier.predict(sample_train)\n",
    "predicted_labels_test = estimator_classifier.predict(sample_test)\n",
    "\n",
    "predicted_labels_train = predicted_labels_train.astype(int)\n",
    "predicted_labels_test = predicted_labels_test.astype(int)\n",
    "\n",
    "predicted_labels_train_str = label_encoder.inverse_transform(predicted_labels_train)\n",
    "predicted_labels_test_str = label_encoder.inverse_transform(predicted_labels_test)\n",
    "\n",
    "train_score_q2_ra = accuracy_score(label_train, predicted_labels_train_str)\n",
    "test_score_q2_ra = accuracy_score(label_test, predicted_labels_test_str)\n",
    "\n",
    "print(f\"EstimatorQNN on the training dataset using TwoLocal: {train_score_q2_ra:.2f}\")\n",
    "print(f\"EstimatorQNN on the test dataset using TwoLocal:     {test_score_q2_ra:.2f}\")\n"
   ]
  },
  {
   "cell_type": "code",
   "execution_count": null,
   "metadata": {},
   "outputs": [
    {
     "data": {
      "text/plain": [
       "array([ 1.14341067,  0.24489591,  0.08845145,  0.47583737, -0.0192359 ,\n",
       "        0.21698329,  0.03332002, -0.08346667,  0.81450234,  0.21573455,\n",
       "       -0.03885986,  0.50044893,  1.72042988,  0.87661795,  0.13382118,\n",
       "       -0.04875047])"
      ]
     },
     "execution_count": 37,
     "metadata": {},
     "output_type": "execute_result"
    }
   ],
   "source": [
    "estimator_classifier.weights"
   ]
  }
 ],
 "metadata": {
  "kernelspec": {
   "display_name": "qiskit_1.0",
   "language": "python",
   "name": "python3"
  },
  "language_info": {
   "codemirror_mode": {
    "name": "ipython",
    "version": 3
   },
   "file_extension": ".py",
   "mimetype": "text/x-python",
   "name": "python",
   "nbconvert_exporter": "python",
   "pygments_lexer": "ipython3",
   "version": "3.10.13"
  }
 },
 "nbformat": 4,
 "nbformat_minor": 2
}
